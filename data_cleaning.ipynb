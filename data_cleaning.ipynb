{
 "cells": [
  {
   "cell_type": "code",
   "execution_count": 1,
   "metadata": {},
   "outputs": [],
   "source": [
    "import pandas as pd\n",
    "import pycountry as pc"
   ]
  },
  {
   "cell_type": "code",
   "execution_count": 2,
   "metadata": {},
   "outputs": [
    {
     "output_type": "execute_result",
     "data": {
      "text/plain": [
       "['covid_dec10',\n",
       " 'covid_old',\n",
       " 'obesity',\n",
       " 'age',\n",
       " 'gdp_pc',\n",
       " 'temperature',\n",
       " 'pop_density',\n",
       " 'above_sea_level',\n",
       " 'mobility',\n",
       " 'healthcare_pc']"
      ]
     },
     "metadata": {},
     "execution_count": 2
    }
   ],
   "source": [
    "xl = pd.ExcelFile('./covid-anal-data.xlsx')\n",
    "xl.sheet_names"
   ]
  },
  {
   "cell_type": "code",
   "execution_count": 3,
   "metadata": {},
   "outputs": [
    {
     "output_type": "execute_result",
     "data": {
      "text/plain": [
       "  country  total_cases  total_deaths  total_recovered  active_cases  \\\n",
       "0     USA     16295458      302750.0        9507419.0     6485289.0   \n",
       "1   India      9827026      142662.0        9324328.0      360036.0   \n",
       "2  Brazil      6836313      180453.0        5954745.0      701115.0   \n",
       "3  Russia      2597711       45893.0        2059840.0      491978.0   \n",
       "4  France      2351372       57567.0         175891.0     2117914.0   \n",
       "\n",
       "   serious_cases  cases_per_million  deaths_per_million  total_tests  \\\n",
       "0        27324.0            49102.0               912.0  217190821.0   \n",
       "1         8944.0             7090.0               103.0  152697399.0   \n",
       "2         8318.0            32060.0               846.0   25700000.0   \n",
       "3         2300.0            17797.0               314.0   81564365.0   \n",
       "4         2884.0            35988.0               881.0   28508991.0   \n",
       "\n",
       "   tests_per_million    population  \n",
       "0           654445.0  3.318704e+08  \n",
       "1           110167.0  1.386049e+09  \n",
       "2           120525.0  2.132342e+08  \n",
       "3           558803.0  1.459626e+08  \n",
       "4           436329.0  6.533828e+07  "
      ],
      "text/html": "<div>\n<style scoped>\n    .dataframe tbody tr th:only-of-type {\n        vertical-align: middle;\n    }\n\n    .dataframe tbody tr th {\n        vertical-align: top;\n    }\n\n    .dataframe thead th {\n        text-align: right;\n    }\n</style>\n<table border=\"1\" class=\"dataframe\">\n  <thead>\n    <tr style=\"text-align: right;\">\n      <th></th>\n      <th>country</th>\n      <th>total_cases</th>\n      <th>total_deaths</th>\n      <th>total_recovered</th>\n      <th>active_cases</th>\n      <th>serious_cases</th>\n      <th>cases_per_million</th>\n      <th>deaths_per_million</th>\n      <th>total_tests</th>\n      <th>tests_per_million</th>\n      <th>population</th>\n    </tr>\n  </thead>\n  <tbody>\n    <tr>\n      <th>0</th>\n      <td>USA</td>\n      <td>16295458</td>\n      <td>302750.0</td>\n      <td>9507419.0</td>\n      <td>6485289.0</td>\n      <td>27324.0</td>\n      <td>49102.0</td>\n      <td>912.0</td>\n      <td>217190821.0</td>\n      <td>654445.0</td>\n      <td>3.318704e+08</td>\n    </tr>\n    <tr>\n      <th>1</th>\n      <td>India</td>\n      <td>9827026</td>\n      <td>142662.0</td>\n      <td>9324328.0</td>\n      <td>360036.0</td>\n      <td>8944.0</td>\n      <td>7090.0</td>\n      <td>103.0</td>\n      <td>152697399.0</td>\n      <td>110167.0</td>\n      <td>1.386049e+09</td>\n    </tr>\n    <tr>\n      <th>2</th>\n      <td>Brazil</td>\n      <td>6836313</td>\n      <td>180453.0</td>\n      <td>5954745.0</td>\n      <td>701115.0</td>\n      <td>8318.0</td>\n      <td>32060.0</td>\n      <td>846.0</td>\n      <td>25700000.0</td>\n      <td>120525.0</td>\n      <td>2.132342e+08</td>\n    </tr>\n    <tr>\n      <th>3</th>\n      <td>Russia</td>\n      <td>2597711</td>\n      <td>45893.0</td>\n      <td>2059840.0</td>\n      <td>491978.0</td>\n      <td>2300.0</td>\n      <td>17797.0</td>\n      <td>314.0</td>\n      <td>81564365.0</td>\n      <td>558803.0</td>\n      <td>1.459626e+08</td>\n    </tr>\n    <tr>\n      <th>4</th>\n      <td>France</td>\n      <td>2351372</td>\n      <td>57567.0</td>\n      <td>175891.0</td>\n      <td>2117914.0</td>\n      <td>2884.0</td>\n      <td>35988.0</td>\n      <td>881.0</td>\n      <td>28508991.0</td>\n      <td>436329.0</td>\n      <td>6.533828e+07</td>\n    </tr>\n  </tbody>\n</table>\n</div>"
     },
     "metadata": {},
     "execution_count": 3
    }
   ],
   "source": [
    "df = xl.parse('covid_dec10')\n",
    "df.head()"
   ]
  },
  {
   "cell_type": "code",
   "execution_count": 4,
   "metadata": {},
   "outputs": [
    {
     "output_type": "execute_result",
     "data": {
      "text/plain": [
       "            country  obesity\n",
       "0             Nauru     61.0\n",
       "1      Cook Islands     55.9\n",
       "2             Palau     55.3\n",
       "3  Marshall Islands     52.9\n",
       "4            Tuvalu     51.6"
      ],
      "text/html": "<div>\n<style scoped>\n    .dataframe tbody tr th:only-of-type {\n        vertical-align: middle;\n    }\n\n    .dataframe tbody tr th {\n        vertical-align: top;\n    }\n\n    .dataframe thead th {\n        text-align: right;\n    }\n</style>\n<table border=\"1\" class=\"dataframe\">\n  <thead>\n    <tr style=\"text-align: right;\">\n      <th></th>\n      <th>country</th>\n      <th>obesity</th>\n    </tr>\n  </thead>\n  <tbody>\n    <tr>\n      <th>0</th>\n      <td>Nauru</td>\n      <td>61.0</td>\n    </tr>\n    <tr>\n      <th>1</th>\n      <td>Cook Islands</td>\n      <td>55.9</td>\n    </tr>\n    <tr>\n      <th>2</th>\n      <td>Palau</td>\n      <td>55.3</td>\n    </tr>\n    <tr>\n      <th>3</th>\n      <td>Marshall Islands</td>\n      <td>52.9</td>\n    </tr>\n    <tr>\n      <th>4</th>\n      <td>Tuvalu</td>\n      <td>51.6</td>\n    </tr>\n  </tbody>\n</table>\n</div>"
     },
     "metadata": {},
     "execution_count": 4
    }
   ],
   "source": [
    "df = xl.parse('obesity')\n",
    "df.head()"
   ]
  },
  {
   "cell_type": "code",
   "execution_count": 5,
   "metadata": {},
   "outputs": [
    {
     "output_type": "execute_result",
     "data": {
      "text/plain": [
       "                     country  median_age  median_age_male  median_age_female\n",
       "0                     Monaco        53.1             51.7               54.5\n",
       "1                      Japan        47.3             46.0               48.7\n",
       "2                    Germany        47.1             46.0               48.2\n",
       "3  Saint Pierre and Miquelon        46.5             46.0               47.0\n",
       "4                      Italy        45.5             44.4               46.5"
      ],
      "text/html": "<div>\n<style scoped>\n    .dataframe tbody tr th:only-of-type {\n        vertical-align: middle;\n    }\n\n    .dataframe tbody tr th {\n        vertical-align: top;\n    }\n\n    .dataframe thead th {\n        text-align: right;\n    }\n</style>\n<table border=\"1\" class=\"dataframe\">\n  <thead>\n    <tr style=\"text-align: right;\">\n      <th></th>\n      <th>country</th>\n      <th>median_age</th>\n      <th>median_age_male</th>\n      <th>median_age_female</th>\n    </tr>\n  </thead>\n  <tbody>\n    <tr>\n      <th>0</th>\n      <td>Monaco</td>\n      <td>53.1</td>\n      <td>51.7</td>\n      <td>54.5</td>\n    </tr>\n    <tr>\n      <th>1</th>\n      <td>Japan</td>\n      <td>47.3</td>\n      <td>46.0</td>\n      <td>48.7</td>\n    </tr>\n    <tr>\n      <th>2</th>\n      <td>Germany</td>\n      <td>47.1</td>\n      <td>46.0</td>\n      <td>48.2</td>\n    </tr>\n    <tr>\n      <th>3</th>\n      <td>Saint Pierre and Miquelon</td>\n      <td>46.5</td>\n      <td>46.0</td>\n      <td>47.0</td>\n    </tr>\n    <tr>\n      <th>4</th>\n      <td>Italy</td>\n      <td>45.5</td>\n      <td>44.4</td>\n      <td>46.5</td>\n    </tr>\n  </tbody>\n</table>\n</div>"
     },
     "metadata": {},
     "execution_count": 5
    }
   ],
   "source": [
    "df = xl.parse('age')\n",
    "df.head()"
   ]
  },
  {
   "cell_type": "code",
   "execution_count": 6,
   "metadata": {},
   "outputs": [
    {
     "output_type": "execute_result",
     "data": {
      "text/plain": [
       "      country  gdp_per_capita\n",
       "0       Qatar        138910.0\n",
       "1       Macau        113352.0\n",
       "2  Luxembourg        112045.0\n",
       "3   Singapore        105689.0\n",
       "4     Ireland         86988.0"
      ],
      "text/html": "<div>\n<style scoped>\n    .dataframe tbody tr th:only-of-type {\n        vertical-align: middle;\n    }\n\n    .dataframe tbody tr th {\n        vertical-align: top;\n    }\n\n    .dataframe thead th {\n        text-align: right;\n    }\n</style>\n<table border=\"1\" class=\"dataframe\">\n  <thead>\n    <tr style=\"text-align: right;\">\n      <th></th>\n      <th>country</th>\n      <th>gdp_per_capita</th>\n    </tr>\n  </thead>\n  <tbody>\n    <tr>\n      <th>0</th>\n      <td>Qatar</td>\n      <td>138910.0</td>\n    </tr>\n    <tr>\n      <th>1</th>\n      <td>Macau</td>\n      <td>113352.0</td>\n    </tr>\n    <tr>\n      <th>2</th>\n      <td>Luxembourg</td>\n      <td>112045.0</td>\n    </tr>\n    <tr>\n      <th>3</th>\n      <td>Singapore</td>\n      <td>105689.0</td>\n    </tr>\n    <tr>\n      <th>4</th>\n      <td>Ireland</td>\n      <td>86988.0</td>\n    </tr>\n  </tbody>\n</table>\n</div>"
     },
     "metadata": {},
     "execution_count": 6
    }
   ],
   "source": [
    "df = xl.parse('gdp_pc')\n",
    "df.head()"
   ]
  },
  {
   "cell_type": "code",
   "execution_count": 7,
   "metadata": {},
   "outputs": [
    {
     "output_type": "execute_result",
     "data": {
      "text/plain": [
       "        country  avg_temp_c\n",
       "0  Burkina Faso       28.25\n",
       "1          Mali       28.25\n",
       "2      Kiribati       28.20\n",
       "3      Djibouti       28.00\n",
       "4        Tuvalu       28.00"
      ],
      "text/html": "<div>\n<style scoped>\n    .dataframe tbody tr th:only-of-type {\n        vertical-align: middle;\n    }\n\n    .dataframe tbody tr th {\n        vertical-align: top;\n    }\n\n    .dataframe thead th {\n        text-align: right;\n    }\n</style>\n<table border=\"1\" class=\"dataframe\">\n  <thead>\n    <tr style=\"text-align: right;\">\n      <th></th>\n      <th>country</th>\n      <th>avg_temp_c</th>\n    </tr>\n  </thead>\n  <tbody>\n    <tr>\n      <th>0</th>\n      <td>Burkina Faso</td>\n      <td>28.25</td>\n    </tr>\n    <tr>\n      <th>1</th>\n      <td>Mali</td>\n      <td>28.25</td>\n    </tr>\n    <tr>\n      <th>2</th>\n      <td>Kiribati</td>\n      <td>28.20</td>\n    </tr>\n    <tr>\n      <th>3</th>\n      <td>Djibouti</td>\n      <td>28.00</td>\n    </tr>\n    <tr>\n      <th>4</th>\n      <td>Tuvalu</td>\n      <td>28.00</td>\n    </tr>\n  </tbody>\n</table>\n</div>"
     },
     "metadata": {},
     "execution_count": 7
    }
   ],
   "source": [
    "df = xl.parse('temperature')\n",
    "df.head()"
   ]
  },
  {
   "cell_type": "code",
   "execution_count": 8,
   "metadata": {},
   "outputs": [
    {
     "output_type": "execute_result",
     "data": {
      "text/plain": [
       "     country  area_km  pop_p_km\n",
       "0      Macau    32.90   20550.0\n",
       "1     Monaco     2.02   18960.0\n",
       "2  Singapore   722.50    7894.0\n",
       "3  Hong Kong  1106.00    6782.0\n",
       "4  Gibraltar     6.80    4956.0"
      ],
      "text/html": "<div>\n<style scoped>\n    .dataframe tbody tr th:only-of-type {\n        vertical-align: middle;\n    }\n\n    .dataframe tbody tr th {\n        vertical-align: top;\n    }\n\n    .dataframe thead th {\n        text-align: right;\n    }\n</style>\n<table border=\"1\" class=\"dataframe\">\n  <thead>\n    <tr style=\"text-align: right;\">\n      <th></th>\n      <th>country</th>\n      <th>area_km</th>\n      <th>pop_p_km</th>\n    </tr>\n  </thead>\n  <tbody>\n    <tr>\n      <th>0</th>\n      <td>Macau</td>\n      <td>32.90</td>\n      <td>20550.0</td>\n    </tr>\n    <tr>\n      <th>1</th>\n      <td>Monaco</td>\n      <td>2.02</td>\n      <td>18960.0</td>\n    </tr>\n    <tr>\n      <th>2</th>\n      <td>Singapore</td>\n      <td>722.50</td>\n      <td>7894.0</td>\n    </tr>\n    <tr>\n      <th>3</th>\n      <td>Hong Kong</td>\n      <td>1106.00</td>\n      <td>6782.0</td>\n    </tr>\n    <tr>\n      <th>4</th>\n      <td>Gibraltar</td>\n      <td>6.80</td>\n      <td>4956.0</td>\n    </tr>\n  </tbody>\n</table>\n</div>"
     },
     "metadata": {},
     "execution_count": 8
    }
   ],
   "source": [
    "df = xl.parse('pop_density')\n",
    "df.head()"
   ]
  },
  {
   "cell_type": "code",
   "execution_count": 9,
   "metadata": {},
   "outputs": [
    {
     "output_type": "execute_result",
     "data": {
      "text/plain": [
       "   country  mobility_composite\n",
       "0  Abruzzo          -47.892765\n",
       "1     Acre          -27.784453\n",
       "2  Alabama          -15.439475\n",
       "3  Alagoas          -32.363884\n",
       "4   Alaska          -26.006509"
      ],
      "text/html": "<div>\n<style scoped>\n    .dataframe tbody tr th:only-of-type {\n        vertical-align: middle;\n    }\n\n    .dataframe tbody tr th {\n        vertical-align: top;\n    }\n\n    .dataframe thead th {\n        text-align: right;\n    }\n</style>\n<table border=\"1\" class=\"dataframe\">\n  <thead>\n    <tr style=\"text-align: right;\">\n      <th></th>\n      <th>country</th>\n      <th>mobility_composite</th>\n    </tr>\n  </thead>\n  <tbody>\n    <tr>\n      <th>0</th>\n      <td>Abruzzo</td>\n      <td>-47.892765</td>\n    </tr>\n    <tr>\n      <th>1</th>\n      <td>Acre</td>\n      <td>-27.784453</td>\n    </tr>\n    <tr>\n      <th>2</th>\n      <td>Alabama</td>\n      <td>-15.439475</td>\n    </tr>\n    <tr>\n      <th>3</th>\n      <td>Alagoas</td>\n      <td>-32.363884</td>\n    </tr>\n    <tr>\n      <th>4</th>\n      <td>Alaska</td>\n      <td>-26.006509</td>\n    </tr>\n  </tbody>\n</table>\n</div>"
     },
     "metadata": {},
     "execution_count": 9
    }
   ],
   "source": [
    "df = xl.parse('mobility')\n",
    "df.head()"
   ]
  },
  {
   "cell_type": "code",
   "execution_count": 10,
   "metadata": {},
   "outputs": [
    {
     "output_type": "execute_result",
     "data": {
      "text/plain": [
       "       country country_code  healthcare_pc\n",
       "0        Aruba          ABW            NaN\n",
       "1  Afghanistan          AFG      67.122650\n",
       "2       Angola          AGO     114.459641\n",
       "3      Albania          ALB            NaN\n",
       "4      Andorra          AND    4040.786621"
      ],
      "text/html": "<div>\n<style scoped>\n    .dataframe tbody tr th:only-of-type {\n        vertical-align: middle;\n    }\n\n    .dataframe tbody tr th {\n        vertical-align: top;\n    }\n\n    .dataframe thead th {\n        text-align: right;\n    }\n</style>\n<table border=\"1\" class=\"dataframe\">\n  <thead>\n    <tr style=\"text-align: right;\">\n      <th></th>\n      <th>country</th>\n      <th>country_code</th>\n      <th>healthcare_pc</th>\n    </tr>\n  </thead>\n  <tbody>\n    <tr>\n      <th>0</th>\n      <td>Aruba</td>\n      <td>ABW</td>\n      <td>NaN</td>\n    </tr>\n    <tr>\n      <th>1</th>\n      <td>Afghanistan</td>\n      <td>AFG</td>\n      <td>67.122650</td>\n    </tr>\n    <tr>\n      <th>2</th>\n      <td>Angola</td>\n      <td>AGO</td>\n      <td>114.459641</td>\n    </tr>\n    <tr>\n      <th>3</th>\n      <td>Albania</td>\n      <td>ALB</td>\n      <td>NaN</td>\n    </tr>\n    <tr>\n      <th>4</th>\n      <td>Andorra</td>\n      <td>AND</td>\n      <td>4040.786621</td>\n    </tr>\n  </tbody>\n</table>\n</div>"
     },
     "metadata": {},
     "execution_count": 10
    }
   ],
   "source": [
    "df = xl.parse('healthcare_pc')\n",
    "df.head()"
   ]
  },
  {
   "cell_type": "code",
   "execution_count": 11,
   "metadata": {},
   "outputs": [
    {
     "output_type": "execute_result",
     "data": {
      "text/plain": [
       "                  obesity  avg_temp_c\n",
       "country                              \n",
       "Nauru                61.0         NaN\n",
       "Cook Islands         55.9         NaN\n",
       "Palau                55.3        27.6\n",
       "Marshall Islands     52.9        27.4\n",
       "Tuvalu               51.6        28.0"
      ],
      "text/html": "<div>\n<style scoped>\n    .dataframe tbody tr th:only-of-type {\n        vertical-align: middle;\n    }\n\n    .dataframe tbody tr th {\n        vertical-align: top;\n    }\n\n    .dataframe thead th {\n        text-align: right;\n    }\n</style>\n<table border=\"1\" class=\"dataframe\">\n  <thead>\n    <tr style=\"text-align: right;\">\n      <th></th>\n      <th>obesity</th>\n      <th>avg_temp_c</th>\n    </tr>\n    <tr>\n      <th>country</th>\n      <th></th>\n      <th></th>\n    </tr>\n  </thead>\n  <tbody>\n    <tr>\n      <th>Nauru</th>\n      <td>61.0</td>\n      <td>NaN</td>\n    </tr>\n    <tr>\n      <th>Cook Islands</th>\n      <td>55.9</td>\n      <td>NaN</td>\n    </tr>\n    <tr>\n      <th>Palau</th>\n      <td>55.3</td>\n      <td>27.6</td>\n    </tr>\n    <tr>\n      <th>Marshall Islands</th>\n      <td>52.9</td>\n      <td>27.4</td>\n    </tr>\n    <tr>\n      <th>Tuvalu</th>\n      <td>51.6</td>\n      <td>28.0</td>\n    </tr>\n  </tbody>\n</table>\n</div>"
     },
     "metadata": {},
     "execution_count": 11
    }
   ],
   "source": [
    "a = xl.parse('obesity')\n",
    "a = a.set_index('country')\n",
    "b = xl.parse('temperature')\n",
    "b = b.set_index('country')\n",
    "c = a.join(b, on='country')\n",
    "c.head()"
   ]
  },
  {
   "cell_type": "code",
   "execution_count": 12,
   "metadata": {},
   "outputs": [
    {
     "output_type": "execute_result",
     "data": {
      "text/plain": [
       "[191, 191, 191]"
      ]
     },
     "metadata": {},
     "execution_count": 12
    }
   ],
   "source": [
    "[len(a), len(b), len(c)]"
   ]
  },
  {
   "cell_type": "code",
   "execution_count": 13,
   "metadata": {},
   "outputs": [
    {
     "output_type": "execute_result",
     "data": {
      "text/plain": [
       "'Viet Nam'"
      ]
     },
     "metadata": {},
     "execution_count": 13
    }
   ],
   "source": [
    "def standardize_country_name(country_name):\n",
    "    try:\n",
    "        return pc.countries.search_fuzzy(country_name)[0].name\n",
    "    except Exception as e:\n",
    "        print('Not found', country_name, e)\n",
    "        return country_name\n",
    "\n",
    "standardize_country_name('vietnam')"
   ]
  },
  {
   "cell_type": "code",
   "execution_count": 14,
   "metadata": {},
   "outputs": [
    {
     "output_type": "stream",
     "name": "stdout",
     "text": [
      "Not found UAE uae\n",
      "Not found S. Korea s. korea\n",
      "Not found Ivory Coast ivory coast\n",
      "Not found DRC drc\n",
      "Not found Channel Islands channel islands\n",
      "Not found Diamond Princess diamond princess\n",
      "Not found Faeroe Islands faeroe islands\n",
      "Not found Caribbean Netherlands caribbean netherlands\n",
      "Not found St. Barth st. barth\n",
      "Not found St. Vincent Grenadines st. vincent grenadines\n",
      "Not found Laos laos\n",
      "Not found Saint Pierre Miquelon saint pierre miquelon\n",
      "Not found MS Zaandam ms zaandam\n"
     ]
    },
    {
     "output_type": "execute_result",
     "data": {
      "text/plain": [
       "              country  total_cases  total_deaths  total_recovered  \\\n",
       "0       United States     16295458      302750.0        9507419.0   \n",
       "1               India      9827026      142662.0        9324328.0   \n",
       "2              Brazil      6836313      180453.0        5954745.0   \n",
       "3  Russian Federation      2597711       45893.0        2059840.0   \n",
       "4              France      2351372       57567.0         175891.0   \n",
       "\n",
       "   active_cases  serious_cases  cases_per_million  deaths_per_million  \\\n",
       "0     6485289.0        27324.0            49102.0               912.0   \n",
       "1      360036.0         8944.0             7090.0               103.0   \n",
       "2      701115.0         8318.0            32060.0               846.0   \n",
       "3      491978.0         2300.0            17797.0               314.0   \n",
       "4     2117914.0         2884.0            35988.0               881.0   \n",
       "\n",
       "   total_tests  tests_per_million    population  \n",
       "0  217190821.0           654445.0  3.318704e+08  \n",
       "1  152697399.0           110167.0  1.386049e+09  \n",
       "2   25700000.0           120525.0  2.132342e+08  \n",
       "3   81564365.0           558803.0  1.459626e+08  \n",
       "4   28508991.0           436329.0  6.533828e+07  "
      ],
      "text/html": "<div>\n<style scoped>\n    .dataframe tbody tr th:only-of-type {\n        vertical-align: middle;\n    }\n\n    .dataframe tbody tr th {\n        vertical-align: top;\n    }\n\n    .dataframe thead th {\n        text-align: right;\n    }\n</style>\n<table border=\"1\" class=\"dataframe\">\n  <thead>\n    <tr style=\"text-align: right;\">\n      <th></th>\n      <th>country</th>\n      <th>total_cases</th>\n      <th>total_deaths</th>\n      <th>total_recovered</th>\n      <th>active_cases</th>\n      <th>serious_cases</th>\n      <th>cases_per_million</th>\n      <th>deaths_per_million</th>\n      <th>total_tests</th>\n      <th>tests_per_million</th>\n      <th>population</th>\n    </tr>\n  </thead>\n  <tbody>\n    <tr>\n      <th>0</th>\n      <td>United States</td>\n      <td>16295458</td>\n      <td>302750.0</td>\n      <td>9507419.0</td>\n      <td>6485289.0</td>\n      <td>27324.0</td>\n      <td>49102.0</td>\n      <td>912.0</td>\n      <td>217190821.0</td>\n      <td>654445.0</td>\n      <td>3.318704e+08</td>\n    </tr>\n    <tr>\n      <th>1</th>\n      <td>India</td>\n      <td>9827026</td>\n      <td>142662.0</td>\n      <td>9324328.0</td>\n      <td>360036.0</td>\n      <td>8944.0</td>\n      <td>7090.0</td>\n      <td>103.0</td>\n      <td>152697399.0</td>\n      <td>110167.0</td>\n      <td>1.386049e+09</td>\n    </tr>\n    <tr>\n      <th>2</th>\n      <td>Brazil</td>\n      <td>6836313</td>\n      <td>180453.0</td>\n      <td>5954745.0</td>\n      <td>701115.0</td>\n      <td>8318.0</td>\n      <td>32060.0</td>\n      <td>846.0</td>\n      <td>25700000.0</td>\n      <td>120525.0</td>\n      <td>2.132342e+08</td>\n    </tr>\n    <tr>\n      <th>3</th>\n      <td>Russian Federation</td>\n      <td>2597711</td>\n      <td>45893.0</td>\n      <td>2059840.0</td>\n      <td>491978.0</td>\n      <td>2300.0</td>\n      <td>17797.0</td>\n      <td>314.0</td>\n      <td>81564365.0</td>\n      <td>558803.0</td>\n      <td>1.459626e+08</td>\n    </tr>\n    <tr>\n      <th>4</th>\n      <td>France</td>\n      <td>2351372</td>\n      <td>57567.0</td>\n      <td>175891.0</td>\n      <td>2117914.0</td>\n      <td>2884.0</td>\n      <td>35988.0</td>\n      <td>881.0</td>\n      <td>28508991.0</td>\n      <td>436329.0</td>\n      <td>6.533828e+07</td>\n    </tr>\n  </tbody>\n</table>\n</div>"
     },
     "metadata": {},
     "execution_count": 14
    }
   ],
   "source": [
    "df = xl.parse(xl.sheet_names[0])\n",
    "df['country'] = df.apply(lambda row: standardize_country_name(row['country']),axis=1)\n",
    "df.head()"
   ]
  },
  {
   "cell_type": "code",
   "execution_count": 15,
   "metadata": {},
   "outputs": [
    {
     "output_type": "stream",
     "name": "stdout",
     "text": [
      "--------------------\n",
      "Not found UAE uae\n",
      "Not found S. Korea s. korea\n",
      "Not found Ivory Coast ivory coast\n",
      "Not found DRC drc\n",
      "Not found Channel Islands channel islands\n",
      "Not found Diamond Princess diamond princess\n",
      "Not found Faeroe Islands faeroe islands\n",
      "Not found Caribbean Netherlands caribbean netherlands\n",
      "Not found St. Barth st. barth\n",
      "Not found St. Vincent Grenadines st. vincent grenadines\n",
      "Not found Laos laos\n",
      "Not found Saint Pierre Miquelon saint pierre miquelon\n",
      "Not found MS Zaandam ms zaandam\n",
      "--------------------\n",
      "covid_dec10 220\n",
      "--------------------\n",
      "obesity 191\n",
      "--------------------\n",
      "Not found Cape Verde cape verde\n",
      "Not found Ivory Coast ivory coast\n",
      "Not found North Korea north korea\n",
      "Not found Democratic Republic of the Congo democratic republic of the congo\n",
      "Not found Laos laos\n",
      "Not found South Korea south korea\n",
      "--------------------\n",
      "--------------------\n",
      "age 230\n",
      "--------------------\n",
      "Not found Saint Helena, Ascension, and Tristan da Cunha saint helena, ascension, and tristan da cunha\n",
      "Not found South Korea south korea\n",
      "Not found Macau macau\n",
      "Not found North Korea north korea\n",
      "Not found World world\n",
      "Not found Burma burma\n",
      "Not found Laos laos\n",
      "Not found Eswatini (Swaziland) eswatini (swaziland)\n",
      "Not found Palestine (West Bank) palestine (west bank)\n",
      "Not found East Timor east timor\n",
      "Not found Democratic Republic of the Congo democratic republic of the congo\n",
      "Not found Palestine (Gaza Strip) palestine (gaza strip)\n",
      "--------------------\n",
      "--------------------\n",
      "gdp_pc 193\n",
      "--------------------\n",
      "Not found Macau macau\n",
      "Not found Korea, South korea, south\n",
      "Not found Bahamas, The bahamas, the\n",
      "Not found World[n 2] world[n 2]\n",
      "Not found Cape Verde cape verde\n",
      "Not found Laos laos\n",
      "Not found Congo, Republic of the congo, republic of the\n",
      "Not found Gambia, The gambia, the\n",
      "Not found Congo, Democratic Republic of the congo, democratic republic of the\n",
      "--------------------\n",
      "--------------------\n",
      "temperature 191\n",
      "--------------------\n",
      "Not found Ivory Coast ivory coast\n",
      "Not found Democratic Republic of the Congo democratic republic of the congo\n",
      "Not found Cape Verde cape verde\n",
      "Not found Laos laos\n",
      "Not found South Korea south korea\n",
      "Not found North Korea north korea\n",
      "--------------------\n",
      "--------------------\n",
      "pop_density 253\n",
      "--------------------\n",
      "Not found Macau macau\n",
      "Not found South Korea south korea\n",
      "Not found United States Virgin Islands united states virgin islands\n",
      "Not found North Korea north korea\n",
      "Not found Cape Verde cape verde\n",
      "Not found Transnistria transnistria\n",
      "Not found Northern Cyprus northern cyprus\n",
      "Not found Wallis & Futuna wallis & futuna\n",
      "Not found Ivory Coast ivory coast\n",
      "Not found World world\n",
      "Not found World world\n",
      "Not found Democratic Republic of the Congo democratic republic of the congo\n",
      "Not found Laos laos\n",
      "Not found Somaliland somaliland\n",
      "Not found Saint Helena Ascension and Tristan da Cunha saint helena ascension and tristan da cunha\n",
      "Not found South Ossetia south ossetia\n",
      "Not found Artsakh artsakh\n",
      "Not found Pitcairn Islands pitcairn islands\n",
      "--------------------\n",
      "--------------------\n",
      "above_sea_level 168\n",
      "--------------------\n",
      "Not found Congo DR congo dr\n",
      "Not found Corsica corsica\n",
      "Not found Ivory Coast ivory coast\n",
      "Not found Laos laos\n",
      "Not found North Korea north korea\n",
      "Not found South Korea south korea\n",
      "Not found Eswatini (Swaziland) eswatini (swaziland)\n",
      "--------------------\n",
      "--------------------\n",
      "mobility 192\n",
      "--------------------\n",
      "Not found Balearic Islands balearic islands\n",
      "Not found Basque Country basque country\n",
      "Not found Bavaria bavaria\n",
      "Not found Bolivia (Plurinational State of) bolivia (plurinational state of)\n",
      "Not found Canary Islands canary islands\n",
      "Not found Castile and Leon castile and leon\n",
      "Not found Catalonia catalonia\n",
      "Not found Community of Madrid community of madrid\n",
      "Not found Lower Saxony lower saxony\n",
      "Not found Mexico City mexico city\n",
      "Not found Mexico_country mexico_country\n",
      "Not found Navarre navarre\n",
      "Not found North Rhine-Westphalia north rhine-westphalia\n",
      "Not found Provincia autonoma di Bolzano provincia autonoma di bolzano\n",
      "Not found Provincia autonoma di Trento provincia autonoma di trento\n",
      "Not found Rhineland-Palatinate rhineland-palatinate\n",
      "Not found Saxony saxony\n",
      "Not found Saxony-Anhalt saxony-anhalt\n",
      "Not found Thuringia thuringia\n",
      "Not found Valencian Community valencian community\n",
      "--------------------\n",
      "--------------------\n",
      "healthcare_pc 264\n",
      "--------------------\n",
      "Not found Arab World arab world\n",
      "Not found Bahamas, The bahamas, the\n",
      "Not found Central Europe and the Baltics central europe and the baltics\n",
      "Not found Channel Islands channel islands\n",
      "Not found Congo, Dem. Rep. congo, dem. rep.\n",
      "Not found Congo, Rep. congo, rep.\n",
      "Not found Caribbean small states caribbean small states\n",
      "Not found East Asia & Pacific (excluding high income) east asia & pacific (excluding high income)\n",
      "Not found Early-demographic dividend early-demographic dividend\n",
      "Not found East Asia & Pacific east asia & pacific\n",
      "Not found Europe & Central Asia (excluding high income) europe & central asia (excluding high income)\n",
      "Not found Europe & Central Asia europe & central asia\n",
      "Not found Egypt, Arab Rep. egypt, arab rep.\n",
      "Not found Euro area euro area\n",
      "Not found European Union european union\n",
      "Not found Fragile and conflict affected situations fragile and conflict affected situations\n",
      "Not found Micronesia, Fed. Sts. micronesia, fed. sts.\n",
      "Not found Gambia, The gambia, the\n",
      "Not found High income high income\n",
      "Not found Hong Kong SAR, China hong kong sar, china\n",
      "Not found Heavily indebted poor countries (HIPC) heavily indebted poor countries (hipc)\n",
      "Not found IBRD only ibrd only\n",
      "Not found IDA & IBRD total ida & ibrd total\n",
      "Not found IDA total ida total\n",
      "Not found IDA blend ida blend\n",
      "Not found IDA only ida only\n",
      "Not found Not classified not classified\n",
      "Not found Iran, Islamic Rep. iran, islamic rep.\n",
      "Not found St. Kitts and Nevis st. kitts and nevis\n",
      "Not found Korea, Rep. korea, rep.\n",
      "Not found Latin America & Caribbean (excluding high income) latin america & caribbean (excluding high income)\n",
      "Not found Lao PDR lao pdr\n",
      "Not found St. Lucia st. lucia\n",
      "Not found Latin America & Caribbean latin america & caribbean\n",
      "Not found Least developed countries: UN classification least developed countries: un classification\n",
      "Not found Low income low income\n",
      "Not found Lower middle income lower middle income\n",
      "Not found Low & middle income low & middle income\n",
      "Not found Late-demographic dividend late-demographic dividend\n",
      "Not found Macao SAR, China macao sar, china\n",
      "Not found St. Martin (French part) st. martin (french part)\n",
      "Not found Middle East & North Africa middle east & north africa\n",
      "Not found Middle income middle income\n",
      "Not found Middle East & North Africa (excluding high income) middle east & north africa (excluding high income)\n",
      "Not found North America north america\n",
      "Not found OECD members oecd members\n",
      "Not found Other small states other small states\n",
      "Not found Pre-demographic dividend pre-demographic dividend\n",
      "Not found Korea, Dem. People’s Rep. korea, dem. people’s rep.\n",
      "Not found West Bank and Gaza west bank and gaza\n",
      "Not found Pacific island small states pacific island small states\n",
      "Not found Post-demographic dividend post-demographic dividend\n",
      "Not found South Asia south asia\n",
      "Not found Sub-Saharan Africa (excluding high income) sub-saharan africa (excluding high income)\n",
      "Not found Sub-Saharan Africa sub-saharan africa\n",
      "Not found Small states small states\n",
      "Not found East Asia & Pacific (IDA & IBRD countries) east asia & pacific (ida & ibrd countries)\n",
      "Not found Europe & Central Asia (IDA & IBRD countries) europe & central asia (ida & ibrd countries)\n",
      "Not found Latin America & the Caribbean (IDA & IBRD countries) latin america & the caribbean (ida & ibrd countries)\n",
      "Not found Middle East & North Africa (IDA & IBRD countries) middle east & north africa (ida & ibrd countries)\n",
      "Not found South Asia (IDA & IBRD) south asia (ida & ibrd)\n",
      "Not found Sub-Saharan Africa (IDA & IBRD countries) sub-saharan africa (ida & ibrd countries)\n",
      "Not found Upper middle income upper middle income\n",
      "Not found St. Vincent and the Grenadines st. vincent and the grenadines\n",
      "Not found Venezuela, RB venezuela, rb\n",
      "Not found Virgin Islands (U.S.) virgin islands (u.s.)\n",
      "Not found World world\n",
      "Not found Yemen, Rep. yemen, rep.\n",
      "--------------------\n"
     ]
    },
    {
     "output_type": "execute_result",
     "data": {
      "text/plain": [
       "                    total_cases  total_deaths  total_recovered  active_cases  \\\n",
       "country                                                                        \n",
       "United States          16295458      302750.0        9507419.0     6485289.0   \n",
       "India                   9827026      142662.0        9324328.0      360036.0   \n",
       "Brazil                  6836313      180453.0        5954745.0      701115.0   \n",
       "Russian Federation      2597711       45893.0        2059840.0      491978.0   \n",
       "France                  2351372       57567.0         175891.0     2117914.0   \n",
       "\n",
       "                    serious_cases  cases_per_million  deaths_per_million  \\\n",
       "country                                                                    \n",
       "United States             27324.0            49102.0               912.0   \n",
       "India                      8944.0             7090.0               103.0   \n",
       "Brazil                     8318.0            32060.0               846.0   \n",
       "Russian Federation         2300.0            17797.0               314.0   \n",
       "France                     2884.0            35988.0               881.0   \n",
       "\n",
       "                    total_tests  tests_per_million    population  ...  \\\n",
       "country                                                           ...   \n",
       "United States       217190821.0           654445.0  3.318704e+08  ...   \n",
       "India               152697399.0           110167.0  1.386049e+09  ...   \n",
       "Brazil               25700000.0           120525.0  2.132342e+08  ...   \n",
       "Russian Federation   81564365.0           558803.0  1.459626e+08  ...   \n",
       "France               28508991.0           436329.0  6.533828e+07  ...   \n",
       "\n",
       "                    median_age  median_age_male  median_age_female  \\\n",
       "country                                                              \n",
       "United States            39.55            38.35              40.65   \n",
       "India                    28.10            27.20              28.60   \n",
       "Brazil                   32.60            31.10              32.80   \n",
       "Russian Federation       39.60            36.60              42.50   \n",
       "France                   41.40            39.60              43.10   \n",
       "\n",
       "                    gdp_per_capita  avg_temp_c       area_km    pop_p_km  \\\n",
       "country                                                                    \n",
       "United States              67426.0        8.55  9.833517e+06   34.000000   \n",
       "India                       9027.0       23.65  3.287240e+06  415.000000   \n",
       "Brazil                     17106.0       24.95  8.515767e+06   25.000000   \n",
       "Russian Federation         30820.0       -5.10  1.712524e+07    9.000000   \n",
       "France                     48640.0       10.70  1.819891e+05  350.666667   \n",
       "\n",
       "                    asl_meters  mobility_composite  healthcare_pc  \n",
       "country                                                            \n",
       "United States            760.0          -25.947264   10246.138672  \n",
       "India                    621.0                 NaN      69.293098  \n",
       "Brazil                   320.0          -30.393815     928.799316  \n",
       "Russian Federation       600.0          -26.168398     585.873230  \n",
       "France                   375.0          -48.319148    4379.727051  \n",
       "\n",
       "[5 rows x 21 columns]"
      ],
      "text/html": "<div>\n<style scoped>\n    .dataframe tbody tr th:only-of-type {\n        vertical-align: middle;\n    }\n\n    .dataframe tbody tr th {\n        vertical-align: top;\n    }\n\n    .dataframe thead th {\n        text-align: right;\n    }\n</style>\n<table border=\"1\" class=\"dataframe\">\n  <thead>\n    <tr style=\"text-align: right;\">\n      <th></th>\n      <th>total_cases</th>\n      <th>total_deaths</th>\n      <th>total_recovered</th>\n      <th>active_cases</th>\n      <th>serious_cases</th>\n      <th>cases_per_million</th>\n      <th>deaths_per_million</th>\n      <th>total_tests</th>\n      <th>tests_per_million</th>\n      <th>population</th>\n      <th>...</th>\n      <th>median_age</th>\n      <th>median_age_male</th>\n      <th>median_age_female</th>\n      <th>gdp_per_capita</th>\n      <th>avg_temp_c</th>\n      <th>area_km</th>\n      <th>pop_p_km</th>\n      <th>asl_meters</th>\n      <th>mobility_composite</th>\n      <th>healthcare_pc</th>\n    </tr>\n    <tr>\n      <th>country</th>\n      <th></th>\n      <th></th>\n      <th></th>\n      <th></th>\n      <th></th>\n      <th></th>\n      <th></th>\n      <th></th>\n      <th></th>\n      <th></th>\n      <th></th>\n      <th></th>\n      <th></th>\n      <th></th>\n      <th></th>\n      <th></th>\n      <th></th>\n      <th></th>\n      <th></th>\n      <th></th>\n      <th></th>\n    </tr>\n  </thead>\n  <tbody>\n    <tr>\n      <th>United States</th>\n      <td>16295458</td>\n      <td>302750.0</td>\n      <td>9507419.0</td>\n      <td>6485289.0</td>\n      <td>27324.0</td>\n      <td>49102.0</td>\n      <td>912.0</td>\n      <td>217190821.0</td>\n      <td>654445.0</td>\n      <td>3.318704e+08</td>\n      <td>...</td>\n      <td>39.55</td>\n      <td>38.35</td>\n      <td>40.65</td>\n      <td>67426.0</td>\n      <td>8.55</td>\n      <td>9.833517e+06</td>\n      <td>34.000000</td>\n      <td>760.0</td>\n      <td>-25.947264</td>\n      <td>10246.138672</td>\n    </tr>\n    <tr>\n      <th>India</th>\n      <td>9827026</td>\n      <td>142662.0</td>\n      <td>9324328.0</td>\n      <td>360036.0</td>\n      <td>8944.0</td>\n      <td>7090.0</td>\n      <td>103.0</td>\n      <td>152697399.0</td>\n      <td>110167.0</td>\n      <td>1.386049e+09</td>\n      <td>...</td>\n      <td>28.10</td>\n      <td>27.20</td>\n      <td>28.60</td>\n      <td>9027.0</td>\n      <td>23.65</td>\n      <td>3.287240e+06</td>\n      <td>415.000000</td>\n      <td>621.0</td>\n      <td>NaN</td>\n      <td>69.293098</td>\n    </tr>\n    <tr>\n      <th>Brazil</th>\n      <td>6836313</td>\n      <td>180453.0</td>\n      <td>5954745.0</td>\n      <td>701115.0</td>\n      <td>8318.0</td>\n      <td>32060.0</td>\n      <td>846.0</td>\n      <td>25700000.0</td>\n      <td>120525.0</td>\n      <td>2.132342e+08</td>\n      <td>...</td>\n      <td>32.60</td>\n      <td>31.10</td>\n      <td>32.80</td>\n      <td>17106.0</td>\n      <td>24.95</td>\n      <td>8.515767e+06</td>\n      <td>25.000000</td>\n      <td>320.0</td>\n      <td>-30.393815</td>\n      <td>928.799316</td>\n    </tr>\n    <tr>\n      <th>Russian Federation</th>\n      <td>2597711</td>\n      <td>45893.0</td>\n      <td>2059840.0</td>\n      <td>491978.0</td>\n      <td>2300.0</td>\n      <td>17797.0</td>\n      <td>314.0</td>\n      <td>81564365.0</td>\n      <td>558803.0</td>\n      <td>1.459626e+08</td>\n      <td>...</td>\n      <td>39.60</td>\n      <td>36.60</td>\n      <td>42.50</td>\n      <td>30820.0</td>\n      <td>-5.10</td>\n      <td>1.712524e+07</td>\n      <td>9.000000</td>\n      <td>600.0</td>\n      <td>-26.168398</td>\n      <td>585.873230</td>\n    </tr>\n    <tr>\n      <th>France</th>\n      <td>2351372</td>\n      <td>57567.0</td>\n      <td>175891.0</td>\n      <td>2117914.0</td>\n      <td>2884.0</td>\n      <td>35988.0</td>\n      <td>881.0</td>\n      <td>28508991.0</td>\n      <td>436329.0</td>\n      <td>6.533828e+07</td>\n      <td>...</td>\n      <td>41.40</td>\n      <td>39.60</td>\n      <td>43.10</td>\n      <td>48640.0</td>\n      <td>10.70</td>\n      <td>1.819891e+05</td>\n      <td>350.666667</td>\n      <td>375.0</td>\n      <td>-48.319148</td>\n      <td>4379.727051</td>\n    </tr>\n  </tbody>\n</table>\n<p>5 rows × 21 columns</p>\n</div>"
     },
     "metadata": {},
     "execution_count": 15
    }
   ],
   "source": [
    "acc_df = xl.parse(xl.sheet_names[0])\n",
    "print('-'*20)\n",
    "acc_df['country'] = acc_df.apply(lambda row: standardize_country_name(row['country']),axis=1)\n",
    "print('-'*20)\n",
    "acc_df = acc_df.set_index('country')\n",
    "print(xl.sheet_names[0], len(acc_df))\n",
    "\n",
    "sheet_blacklist = ['covid_old']\n",
    "\n",
    "for sheet_name in xl.sheet_names[1:]:\n",
    "    if sheet_name in sheet_blacklist:\n",
    "        continue\n",
    "    \n",
    "    df = xl.parse(sheet_name)\n",
    "    \n",
    "    print('-'*20)\n",
    "    print(sheet_name, len(df))\n",
    "    print('-'*20)\n",
    "    df['country'] = df.apply(lambda row: standardize_country_name(row['country']),axis=1)\n",
    "    print('-'*20)\n",
    "    df = df.groupby(['country']).mean()\n",
    "    \n",
    "#     df = df.set_index('country')\n",
    "    acc_df = acc_df.join(df, on='country', how='left', rsuffix=f'_{sheet_name}')\n",
    "    \n",
    "acc_df.head()"
   ]
  },
  {
   "cell_type": "code",
   "execution_count": 16,
   "metadata": {},
   "outputs": [
    {
     "output_type": "execute_result",
     "data": {
      "text/plain": [
       "220"
      ]
     },
     "metadata": {},
     "execution_count": 16
    }
   ],
   "source": [
    "len(acc_df)"
   ]
  },
  {
   "cell_type": "code",
   "execution_count": 17,
   "metadata": {},
   "outputs": [],
   "source": [
    "acc_df.to_csv('clean_data.csv')"
   ]
  },
  {
   "cell_type": "code",
   "execution_count": null,
   "metadata": {},
   "outputs": [],
   "source": []
  }
 ],
 "metadata": {
  "kernelspec": {
   "display_name": "Python 3",
   "language": "python",
   "name": "python3"
  },
  "language_info": {
   "codemirror_mode": {
    "name": "ipython",
    "version": 3
   },
   "file_extension": ".py",
   "mimetype": "text/x-python",
   "name": "python",
   "nbconvert_exporter": "python",
   "pygments_lexer": "ipython3",
   "version": "3.7.6-final"
  }
 },
 "nbformat": 4,
 "nbformat_minor": 4
}